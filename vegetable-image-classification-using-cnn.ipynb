{
 "cells": [
  {
   "cell_type": "code",
   "execution_count": 1,
   "metadata": {},
   "outputs": [
    {
     "name": "stdout",
     "output_type": "stream",
     "text": [
      "Requirement already satisfied: tensorflow in c:\\users\\sahit\\anaconda3\\lib\\site-packages (2.16.1)\n",
      "Requirement already satisfied: tensorflow-intel==2.16.1 in c:\\users\\sahit\\anaconda3\\lib\\site-packages (from tensorflow) (2.16.1)\n",
      "Requirement already satisfied: typing-extensions>=3.6.6 in c:\\users\\sahit\\anaconda3\\lib\\site-packages (from tensorflow-intel==2.16.1->tensorflow) (4.3.0)\n",
      "Requirement already satisfied: numpy<2.0.0,>=1.23.5 in c:\\users\\sahit\\anaconda3\\lib\\site-packages (from tensorflow-intel==2.16.1->tensorflow) (1.26.4)\n",
      "Requirement already satisfied: opt-einsum>=2.3.2 in c:\\users\\sahit\\anaconda3\\lib\\site-packages (from tensorflow-intel==2.16.1->tensorflow) (3.3.0)\n",
      "Requirement already satisfied: tensorflow-io-gcs-filesystem>=0.23.1 in c:\\users\\sahit\\anaconda3\\lib\\site-packages (from tensorflow-intel==2.16.1->tensorflow) (0.31.0)\n",
      "Requirement already satisfied: termcolor>=1.1.0 in c:\\users\\sahit\\anaconda3\\lib\\site-packages (from tensorflow-intel==2.16.1->tensorflow) (2.4.0)\n",
      "Requirement already satisfied: wrapt>=1.11.0 in c:\\users\\sahit\\anaconda3\\lib\\site-packages (from tensorflow-intel==2.16.1->tensorflow) (1.14.1)\n",
      "Requirement already satisfied: six>=1.12.0 in c:\\users\\sahit\\anaconda3\\lib\\site-packages (from tensorflow-intel==2.16.1->tensorflow) (1.16.0)\n",
      "Requirement already satisfied: grpcio<2.0,>=1.24.3 in c:\\users\\sahit\\anaconda3\\lib\\site-packages (from tensorflow-intel==2.16.1->tensorflow) (1.62.1)\n",
      "Requirement already satisfied: astunparse>=1.6.0 in c:\\users\\sahit\\anaconda3\\lib\\site-packages (from tensorflow-intel==2.16.1->tensorflow) (1.6.3)\n",
      "Requirement already satisfied: keras>=3.0.0 in c:\\users\\sahit\\anaconda3\\lib\\site-packages (from tensorflow-intel==2.16.1->tensorflow) (3.1.1)\n",
      "Requirement already satisfied: flatbuffers>=23.5.26 in c:\\users\\sahit\\anaconda3\\lib\\site-packages (from tensorflow-intel==2.16.1->tensorflow) (24.3.25)\n",
      "Requirement already satisfied: tensorboard<2.17,>=2.16 in c:\\users\\sahit\\anaconda3\\lib\\site-packages (from tensorflow-intel==2.16.1->tensorflow) (2.16.2)\n",
      "Requirement already satisfied: setuptools in c:\\users\\sahit\\anaconda3\\lib\\site-packages (from tensorflow-intel==2.16.1->tensorflow) (63.4.1)\n",
      "Requirement already satisfied: packaging in c:\\users\\sahit\\anaconda3\\lib\\site-packages (from tensorflow-intel==2.16.1->tensorflow) (21.3)\n",
      "Requirement already satisfied: gast!=0.5.0,!=0.5.1,!=0.5.2,>=0.2.1 in c:\\users\\sahit\\anaconda3\\lib\\site-packages (from tensorflow-intel==2.16.1->tensorflow) (0.5.4)\n",
      "Requirement already satisfied: absl-py>=1.0.0 in c:\\users\\sahit\\anaconda3\\lib\\site-packages (from tensorflow-intel==2.16.1->tensorflow) (2.1.0)\n",
      "Requirement already satisfied: protobuf!=4.21.0,!=4.21.1,!=4.21.2,!=4.21.3,!=4.21.4,!=4.21.5,<5.0.0dev,>=3.20.3 in c:\\users\\sahit\\anaconda3\\lib\\site-packages (from tensorflow-intel==2.16.1->tensorflow) (4.25.3)\n",
      "Requirement already satisfied: libclang>=13.0.0 in c:\\users\\sahit\\anaconda3\\lib\\site-packages (from tensorflow-intel==2.16.1->tensorflow) (18.1.1)\n",
      "Requirement already satisfied: requests<3,>=2.21.0 in c:\\users\\sahit\\anaconda3\\lib\\site-packages (from tensorflow-intel==2.16.1->tensorflow) (2.28.1)\n",
      "Requirement already satisfied: google-pasta>=0.1.1 in c:\\users\\sahit\\anaconda3\\lib\\site-packages (from tensorflow-intel==2.16.1->tensorflow) (0.2.0)\n",
      "Requirement already satisfied: ml-dtypes~=0.3.1 in c:\\users\\sahit\\anaconda3\\lib\\site-packages (from tensorflow-intel==2.16.1->tensorflow) (0.3.2)\n",
      "Requirement already satisfied: h5py>=3.10.0 in c:\\users\\sahit\\anaconda3\\lib\\site-packages (from tensorflow-intel==2.16.1->tensorflow) (3.10.0)\n",
      "Requirement already satisfied: wheel<1.0,>=0.23.0 in c:\\users\\sahit\\anaconda3\\lib\\site-packages (from astunparse>=1.6.0->tensorflow-intel==2.16.1->tensorflow) (0.37.1)\n",
      "Requirement already satisfied: optree in c:\\users\\sahit\\anaconda3\\lib\\site-packages (from keras>=3.0.0->tensorflow-intel==2.16.1->tensorflow) (0.11.0)\n",
      "Requirement already satisfied: namex in c:\\users\\sahit\\anaconda3\\lib\\site-packages (from keras>=3.0.0->tensorflow-intel==2.16.1->tensorflow) (0.0.7)\n",
      "Requirement already satisfied: rich in c:\\users\\sahit\\anaconda3\\lib\\site-packages (from keras>=3.0.0->tensorflow-intel==2.16.1->tensorflow) (13.7.1)\n",
      "Requirement already satisfied: idna<4,>=2.5 in c:\\users\\sahit\\anaconda3\\lib\\site-packages (from requests<3,>=2.21.0->tensorflow-intel==2.16.1->tensorflow) (3.3)\n",
      "Requirement already satisfied: urllib3<1.27,>=1.21.1 in c:\\users\\sahit\\anaconda3\\lib\\site-packages (from requests<3,>=2.21.0->tensorflow-intel==2.16.1->tensorflow) (1.26.11)\n",
      "Requirement already satisfied: certifi>=2017.4.17 in c:\\users\\sahit\\anaconda3\\lib\\site-packages (from requests<3,>=2.21.0->tensorflow-intel==2.16.1->tensorflow) (2022.9.14)\n",
      "Requirement already satisfied: charset-normalizer<3,>=2 in c:\\users\\sahit\\anaconda3\\lib\\site-packages (from requests<3,>=2.21.0->tensorflow-intel==2.16.1->tensorflow) (2.0.4)\n",
      "Requirement already satisfied: tensorboard-data-server<0.8.0,>=0.7.0 in c:\\users\\sahit\\anaconda3\\lib\\site-packages (from tensorboard<2.17,>=2.16->tensorflow-intel==2.16.1->tensorflow) (0.7.2)\n",
      "Requirement already satisfied: werkzeug>=1.0.1 in c:\\users\\sahit\\anaconda3\\lib\\site-packages (from tensorboard<2.17,>=2.16->tensorflow-intel==2.16.1->tensorflow) (2.0.3)\n",
      "Requirement already satisfied: markdown>=2.6.8 in c:\\users\\sahit\\anaconda3\\lib\\site-packages (from tensorboard<2.17,>=2.16->tensorflow-intel==2.16.1->tensorflow) (3.3.4)\n",
      "Requirement already satisfied: pyparsing!=3.0.5,>=2.0.2 in c:\\users\\sahit\\anaconda3\\lib\\site-packages (from packaging->tensorflow-intel==2.16.1->tensorflow) (3.0.9)\n",
      "Requirement already satisfied: pygments<3.0.0,>=2.13.0 in c:\\users\\sahit\\anaconda3\\lib\\site-packages (from rich->keras>=3.0.0->tensorflow-intel==2.16.1->tensorflow) (2.17.2)\n",
      "Requirement already satisfied: markdown-it-py>=2.2.0 in c:\\users\\sahit\\anaconda3\\lib\\site-packages (from rich->keras>=3.0.0->tensorflow-intel==2.16.1->tensorflow) (3.0.0)\n",
      "Requirement already satisfied: mdurl~=0.1 in c:\\users\\sahit\\anaconda3\\lib\\site-packages (from markdown-it-py>=2.2.0->rich->keras>=3.0.0->tensorflow-intel==2.16.1->tensorflow) (0.1.2)\n"
     ]
    }
   ],
   "source": [
    "!pip install tensorflow"
   ]
  },
  {
   "cell_type": "code",
   "execution_count": 2,
   "metadata": {
    "execution": {
     "iopub.execute_input": "2022-01-08T16:44:25.398444Z",
     "iopub.status.busy": "2022-01-08T16:44:25.397388Z",
     "iopub.status.idle": "2022-01-08T16:44:30.062868Z",
     "shell.execute_reply": "2022-01-08T16:44:30.062078Z",
     "shell.execute_reply.started": "2022-01-08T16:44:25.398319Z"
    }
   },
   "outputs": [
    {
     "name": "stderr",
     "output_type": "stream",
     "text": [
      "C:\\Users\\sahit\\anaconda3\\lib\\site-packages\\scipy\\__init__.py:155: UserWarning: A NumPy version >=1.18.5 and <1.25.0 is required for this version of SciPy (detected version 1.26.4\n",
      "  warnings.warn(f\"A NumPy version >={np_minversion} and <{np_maxversion}\"\n"
     ]
    }
   ],
   "source": [
    "# Import libraries\n",
    "import numpy as np\n",
    "import matplotlib.pyplot as plt\n",
    "import tensorflow as tf\n",
    "from tensorflow import keras\n",
    "from keras.layers import *\n",
    "from keras.models import *\n",
    "from keras.preprocessing import image\n",
    "from tensorflow.keras.preprocessing.image import ImageDataGenerator\n",
    "import os, shutil\n",
    "import warnings\n",
    "warnings.filterwarnings('ignore')"
   ]
  },
  {
   "cell_type": "markdown",
   "metadata": {},
   "source": [
    "# Visualise the Images"
   ]
  },
  {
   "cell_type": "code",
   "execution_count": 3,
   "metadata": {
    "execution": {
     "iopub.execute_input": "2022-01-08T16:44:30.064754Z",
     "iopub.status.busy": "2022-01-08T16:44:30.064478Z",
     "iopub.status.idle": "2022-01-08T16:44:36.539149Z",
     "shell.execute_reply": "2022-01-08T16:44:36.537478Z",
     "shell.execute_reply.started": "2022-01-08T16:44:30.064712Z"
    }
   },
   "outputs": [
    {
     "ename": "FileNotFoundError",
     "evalue": "[WinError 3] The system cannot find the path specified: '../input/vegetable-image-dataset/Vegetable Images/train'",
     "output_type": "error",
     "traceback": [
      "\u001b[1;31m---------------------------------------------------------------------------\u001b[0m",
      "\u001b[1;31mFileNotFoundError\u001b[0m                         Traceback (most recent call last)",
      "\u001b[1;32m~\\AppData\\Local\\Temp\\ipykernel_42692\\864080851.py\u001b[0m in \u001b[0;36m<module>\u001b[1;34m\u001b[0m\n\u001b[0;32m      4\u001b[0m \u001b[0mtest_path\u001b[0m \u001b[1;33m=\u001b[0m \u001b[1;34m\"../input/vegetable-image-dataset/Vegetable Images/test\"\u001b[0m\u001b[1;33m\u001b[0m\u001b[1;33m\u001b[0m\u001b[0m\n\u001b[0;32m      5\u001b[0m \u001b[1;33m\u001b[0m\u001b[0m\n\u001b[1;32m----> 6\u001b[1;33m \u001b[0mimage_categories\u001b[0m \u001b[1;33m=\u001b[0m \u001b[0mos\u001b[0m\u001b[1;33m.\u001b[0m\u001b[0mlistdir\u001b[0m\u001b[1;33m(\u001b[0m\u001b[1;34m'../input/vegetable-image-dataset/Vegetable Images/train'\u001b[0m\u001b[1;33m)\u001b[0m\u001b[1;33m\u001b[0m\u001b[1;33m\u001b[0m\u001b[0m\n\u001b[0m\u001b[0;32m      7\u001b[0m \u001b[1;33m\u001b[0m\u001b[0m\n\u001b[0;32m      8\u001b[0m \u001b[1;32mdef\u001b[0m \u001b[0mplot_images\u001b[0m\u001b[1;33m(\u001b[0m\u001b[0mimage_categories\u001b[0m\u001b[1;33m)\u001b[0m\u001b[1;33m:\u001b[0m\u001b[1;33m\u001b[0m\u001b[1;33m\u001b[0m\u001b[0m\n",
      "\u001b[1;31mFileNotFoundError\u001b[0m: [WinError 3] The system cannot find the path specified: '../input/vegetable-image-dataset/Vegetable Images/train'"
     ]
    }
   ],
   "source": [
    "# Let's plot a few images\n",
    "train_path = \"../input/vegetable-image-dataset/Vegetable Images/train\"\n",
    "validation_path = \"../input/vegetable-image-dataset/Vegetable Images/validation\"\n",
    "test_path = \"../input/vegetable-image-dataset/Vegetable Images/test\"\n",
    "\n",
    "image_categories = os.listdir('../input/vegetable-image-dataset/Vegetable Images/train')\n",
    "\n",
    "def plot_images(image_categories):\n",
    "    \n",
    "    # Create a figure\n",
    "    plt.figure(figsize=(12, 12))\n",
    "    for i, cat in enumerate(image_categories):\n",
    "        \n",
    "        # Load images for the ith category\n",
    "        image_path = train_path + '/' + cat\n",
    "        images_in_folder = os.listdir(image_path)\n",
    "        first_image_of_folder = images_in_folder[0]\n",
    "        first_image_path = image_path + '/' + first_image_of_folder\n",
    "        img = image.load_img(first_image_path)\n",
    "        img_arr = image.img_to_array(img)/255.0\n",
    "        \n",
    "        \n",
    "        # Create Subplot and plot the images\n",
    "        plt.subplot(4, 4, i+1)\n",
    "        plt.imshow(img_arr)\n",
    "        plt.title(cat)\n",
    "        plt.axis('off')\n",
    "        \n",
    "    plt.show()\n",
    "\n",
    "# Call the function\n",
    "plot_images(image_categories)\n",
    "        "
   ]
  },
  {
   "cell_type": "markdown",
   "metadata": {},
   "source": [
    "# Prepare the Dataset"
   ]
  },
  {
   "cell_type": "code",
   "execution_count": null,
   "metadata": {
    "execution": {
     "iopub.execute_input": "2022-01-08T16:44:36.540387Z",
     "iopub.status.busy": "2022-01-08T16:44:36.540142Z",
     "iopub.status.idle": "2022-01-08T16:44:39.364199Z",
     "shell.execute_reply": "2022-01-08T16:44:39.363418Z",
     "shell.execute_reply.started": "2022-01-08T16:44:36.540356Z"
    }
   },
   "outputs": [],
   "source": [
    "# Creating Image Data Generator for train, validation and test set\n",
    "\n",
    "# 1. Train Set\n",
    "train_gen = ImageDataGenerator(rescale = 1.0/255.0) # Normalise the data\n",
    "train_image_generator = train_gen.flow_from_directory(\n",
    "                                            train_path,\n",
    "                                            target_size=(150, 150),\n",
    "                                            batch_size=32,\n",
    "                                            class_mode='categorical')\n",
    "\n",
    "# 2. Validation Set\n",
    "val_gen = ImageDataGenerator(rescale = 1.0/255.0) # Normalise the data\n",
    "val_image_generator = train_gen.flow_from_directory(\n",
    "                                            validation_path,\n",
    "                                            target_size=(150, 150),\n",
    "                                            batch_size=32,\n",
    "                                            class_mode='categorical')\n",
    "\n",
    "# 3. Test Set\n",
    "test_gen = ImageDataGenerator(rescale = 1.0/255.0) # Normalise the data\n",
    "test_image_generator = train_gen.flow_from_directory(\n",
    "                                            test_path,\n",
    "                                            target_size=(150, 150),\n",
    "                                            batch_size=32,\n",
    "                                            class_mode='categorical')"
   ]
  },
  {
   "cell_type": "code",
   "execution_count": null,
   "metadata": {
    "execution": {
     "iopub.execute_input": "2022-01-08T16:44:39.366839Z",
     "iopub.status.busy": "2022-01-08T16:44:39.366395Z",
     "iopub.status.idle": "2022-01-08T16:44:39.375038Z",
     "shell.execute_reply": "2022-01-08T16:44:39.373629Z",
     "shell.execute_reply.started": "2022-01-08T16:44:39.3668Z"
    }
   },
   "outputs": [],
   "source": [
    "# Print the class encodings done by the generators\n",
    "class_map = dict([(v, k) for k, v in train_image_generator.class_indices.items()])\n",
    "print(class_map)"
   ]
  },
  {
   "cell_type": "markdown",
   "metadata": {},
   "source": [
    "# Building a CNN model"
   ]
  },
  {
   "cell_type": "code",
   "execution_count": null,
   "metadata": {
    "execution": {
     "iopub.execute_input": "2022-01-08T16:44:39.378733Z",
     "iopub.status.busy": "2022-01-08T16:44:39.377401Z",
     "iopub.status.idle": "2022-01-08T16:44:41.674987Z",
     "shell.execute_reply": "2022-01-08T16:44:41.674278Z",
     "shell.execute_reply.started": "2022-01-08T16:44:39.378695Z"
    }
   },
   "outputs": [],
   "source": [
    "# Build a custom sequential CNN model\n",
    "\n",
    "model = Sequential() # model object\n",
    "\n",
    "# Add Layers\n",
    "model.add(Conv2D(filters=32, kernel_size=3, strides=1, padding='same', activation='relu', input_shape=[150, 150, 3]))\n",
    "model.add(MaxPooling2D(2, ))\n",
    "model.add(Conv2D(filters=64, kernel_size=3, strides=1, padding='same', activation='relu'))\n",
    "model.add(MaxPooling2D(2))\n",
    "\n",
    "# Flatten the feature map\n",
    "model.add(Flatten())\n",
    "\n",
    "# Add the fully connected layers\n",
    "model.add(Dense(128, activation='relu'))\n",
    "model.add(Dropout(0.25))\n",
    "model.add(Dense(128, activation='relu'))\n",
    "model.add(Dense(15, activation='softmax'))\n",
    "\n",
    "# print the model summary\n",
    "model.summary()"
   ]
  },
  {
   "cell_type": "code",
   "execution_count": null,
   "metadata": {
    "execution": {
     "iopub.execute_input": "2022-01-08T16:44:41.676687Z",
     "iopub.status.busy": "2022-01-08T16:44:41.676281Z",
     "iopub.status.idle": "2022-01-08T16:56:24.973171Z",
     "shell.execute_reply": "2022-01-08T16:56:24.972423Z",
     "shell.execute_reply.started": "2022-01-08T16:44:41.676651Z"
    }
   },
   "outputs": [],
   "source": [
    "# Compile and fit the model\n",
    "early_stopping = keras.callbacks.EarlyStopping(patience=5) # Set up callbacks\n",
    "model.compile(optimizer='Adam', loss='categorical_crossentropy', metrics='accuracy')\n",
    "hist = model.fit(train_image_generator, \n",
    "                 epochs=100, \n",
    "                 verbose=1, \n",
    "                 validation_data=val_image_generator, \n",
    "                 steps_per_epoch = 15000//32, \n",
    "                 validation_steps = 3000//32, \n",
    "                 callbacks=early_stopping)"
   ]
  },
  {
   "cell_type": "markdown",
   "metadata": {},
   "source": [
    "**Model trained for 15 Epochs**"
   ]
  },
  {
   "cell_type": "code",
   "execution_count": null,
   "metadata": {
    "execution": {
     "iopub.execute_input": "2022-01-08T16:56:24.976072Z",
     "iopub.status.busy": "2022-01-08T16:56:24.975861Z",
     "iopub.status.idle": "2022-01-08T16:56:33.604213Z",
     "shell.execute_reply": "2022-01-08T16:56:33.603552Z",
     "shell.execute_reply.started": "2022-01-08T16:56:24.976041Z"
    }
   },
   "outputs": [],
   "source": [
    "# Plot the error and accuracy\n",
    "h = hist.history\n",
    "plt.style.use('ggplot')\n",
    "plt.figure(figsize=(10, 5))\n",
    "plt.plot(h['loss'], c='red', label='Training Loss')\n",
    "plt.plot(h['val_loss'], c='red', linestyle='--', label='Validation Loss')\n",
    "plt.plot(h['accuracy'], c='blue', label='Training Accuracy')\n",
    "plt.plot(h['val_accuracy'], c='blue', linestyle='--', label='Validation Accuracy')\n",
    "plt.xlabel(\"Number of Epochs\")\n",
    "plt.legend(loc='best')\n",
    "plt.show()"
   ]
  },
  {
   "cell_type": "code",
   "execution_count": null,
   "metadata": {
    "execution": {
     "iopub.execute_input": "2022-01-08T16:56:33.605878Z",
     "iopub.status.busy": "2022-01-08T16:56:33.605462Z",
     "iopub.status.idle": "2022-01-08T16:56:58.884165Z",
     "shell.execute_reply": "2022-01-08T16:56:58.883491Z",
     "shell.execute_reply.started": "2022-01-08T16:56:33.605841Z"
    }
   },
   "outputs": [],
   "source": [
    "# Predict the accuracy for the test set\n",
    "model.evaluate(test_image_generator)"
   ]
  },
  {
   "cell_type": "code",
   "execution_count": null,
   "metadata": {
    "execution": {
     "iopub.execute_input": "2022-01-08T17:14:14.899158Z",
     "iopub.status.busy": "2022-01-08T17:14:14.898474Z",
     "iopub.status.idle": "2022-01-08T17:14:15.02412Z",
     "shell.execute_reply": "2022-01-08T17:14:15.023368Z",
     "shell.execute_reply.started": "2022-01-08T17:14:14.89912Z"
    }
   },
   "outputs": [],
   "source": [
    "# Testing the Model\n",
    "test_image_path = '../input/vegetable-image-dataset/Vegetable Images/test/Broccoli/1011.jpg'\n",
    "\n",
    "def generate_predictions(test_image_path, actual_label):\n",
    "    \n",
    "    # 1. Load and preprocess the image\n",
    "    test_img = image.load_img(test_image_path, target_size=(150, 150))\n",
    "    test_img_arr = image.img_to_array(test_img)/255.0\n",
    "    test_img_input = test_img_arr.reshape((1, test_img_arr.shape[0], test_img_arr.shape[1], test_img_arr.shape[2]))\n",
    "\n",
    "    # 2. Make Predictions\n",
    "    predicted_label = np.argmax(model.predict(test_img_input))\n",
    "    predicted_vegetable = class_map[predicted_label]\n",
    "    plt.figure(figsize=(4, 4))\n",
    "    plt.imshow(test_img_arr)\n",
    "    plt.title(\"Predicted Label: {}, Actual Label: {}\".format(predicted_vegetable, actual_label))\n",
    "    plt.grid()\n",
    "    plt.axis('off')\n",
    "    plt.show()\n",
    "\n",
    "# call the function\n",
    "generate_predictions(test_image_path, actual_label='Brocoli')"
   ]
  },
  {
   "cell_type": "code",
   "execution_count": null,
   "metadata": {
    "execution": {
     "iopub.execute_input": "2022-01-08T16:56:59.110462Z",
     "iopub.status.busy": "2022-01-08T16:56:59.10972Z",
     "iopub.status.idle": "2022-01-08T16:57:01.175398Z",
     "shell.execute_reply": "2022-01-08T16:57:01.174644Z",
     "shell.execute_reply.started": "2022-01-08T16:56:59.110424Z"
    }
   },
   "outputs": [],
   "source": [
    "# Let's test the model on an image from an external source\n",
    "!wget \"https://www.dropbox.com/s/i020rz847u8bq09/beans.jpg?dl=0\""
   ]
  },
  {
   "cell_type": "code",
   "execution_count": null,
   "metadata": {
    "execution": {
     "iopub.execute_input": "2022-01-08T16:57:01.178497Z",
     "iopub.status.busy": "2022-01-08T16:57:01.177749Z",
     "iopub.status.idle": "2022-01-08T16:57:03.157904Z",
     "shell.execute_reply": "2022-01-08T16:57:03.157098Z",
     "shell.execute_reply.started": "2022-01-08T16:57:01.17845Z"
    }
   },
   "outputs": [],
   "source": [
    "!wget \"https://www.dropbox.com/s/lge1plvr4mg5w7y/potato_2.jpg?dl=0\""
   ]
  },
  {
   "cell_type": "code",
   "execution_count": null,
   "metadata": {
    "execution": {
     "iopub.execute_input": "2022-01-08T16:57:03.160009Z",
     "iopub.status.busy": "2022-01-08T16:57:03.159721Z",
     "iopub.status.idle": "2022-01-08T16:57:03.304377Z",
     "shell.execute_reply": "2022-01-08T16:57:03.303667Z",
     "shell.execute_reply.started": "2022-01-08T16:57:03.159964Z"
    }
   },
   "outputs": [],
   "source": [
    "# Generate predictions for external images\n",
    "external_image_path_1 = \"./beans.jpg?dl=0\"\n",
    "generate_predictions(external_image_path_1, actual_label='Bean')"
   ]
  },
  {
   "cell_type": "code",
   "execution_count": null,
   "metadata": {
    "execution": {
     "iopub.execute_input": "2022-01-08T16:57:03.306156Z",
     "iopub.status.busy": "2022-01-08T16:57:03.305799Z",
     "iopub.status.idle": "2022-01-08T16:57:03.418323Z",
     "shell.execute_reply": "2022-01-08T16:57:03.417621Z",
     "shell.execute_reply.started": "2022-01-08T16:57:03.306123Z"
    }
   },
   "outputs": [],
   "source": [
    "# Generate predictions for external image\n",
    "external_image_path_2 = \"./potato_2.jpg?dl=0\"\n",
    "generate_predictions(external_image_path_2, actual_label='Potato')"
   ]
  },
  {
   "cell_type": "markdown",
   "metadata": {},
   "source": []
  },
  {
   "cell_type": "code",
   "execution_count": null,
   "metadata": {},
   "outputs": [],
   "source": []
  },
  {
   "cell_type": "code",
   "execution_count": null,
   "metadata": {},
   "outputs": [],
   "source": []
  },
  {
   "cell_type": "code",
   "execution_count": null,
   "metadata": {},
   "outputs": [],
   "source": []
  }
 ],
 "metadata": {
  "kaggle": {
   "accelerator": "gpu",
   "dataSources": [
    {
     "datasetId": 1817999,
     "sourceId": 2965251,
     "sourceType": "datasetVersion"
    }
   ],
   "dockerImageVersionId": 30152,
   "isGpuEnabled": true,
   "isInternetEnabled": false,
   "language": "python",
   "sourceType": "notebook"
  },
  "kernelspec": {
   "display_name": "Python 3 (ipykernel)",
   "language": "python",
   "name": "python3"
  },
  "language_info": {
   "codemirror_mode": {
    "name": "ipython",
    "version": 3
   },
   "file_extension": ".py",
   "mimetype": "text/x-python",
   "name": "python",
   "nbconvert_exporter": "python",
   "pygments_lexer": "ipython3",
   "version": "3.9.13"
  }
 },
 "nbformat": 4,
 "nbformat_minor": 4
}
